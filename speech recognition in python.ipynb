{
 "cells": [
  {
   "cell_type": "markdown",
   "id": "62ad8d11",
   "metadata": {},
   "source": [
    "# Speech recognition into text"
   ]
  },
  {
   "cell_type": "code",
   "execution_count": 1,
   "id": "ae13c224",
   "metadata": {},
   "outputs": [],
   "source": [
    "import speech_recognition as sr"
   ]
  },
  {
   "cell_type": "code",
   "execution_count": 2,
   "id": "74175ae3",
   "metadata": {},
   "outputs": [
    {
     "name": "stdout",
     "output_type": "stream",
     "text": [
      "Requirement already satisfied: PyAudio in c:\\programdata\\anaconda3\\lib\\site-packages (0.2.11)\n",
      "Note: you may need to restart the kernel to use updated packages.\n"
     ]
    }
   ],
   "source": [
    "pip install PyAudio"
   ]
  },
  {
   "cell_type": "markdown",
   "id": "87be4f45",
   "metadata": {},
   "source": [
    "here iam building the simple speech recognition sys with micro phone that converts into text in python"
   ]
  },
  {
   "cell_type": "code",
   "execution_count": 3,
   "id": "7e25a129",
   "metadata": {},
   "outputs": [
    {
     "name": "stdout",
     "output_type": "stream",
     "text": [
      "Please speak\n",
      "Recognizing..\n",
      "I am Prashant\n"
     ]
    }
   ],
   "source": [
    "r=sr.Recognizer()\n",
    "print(\"Please speak\")\n",
    "with sr.Microphone() as source:\n",
    "    audio_data=r.record(source, duration=5)\n",
    "    print(\"Recognizing..\")\n",
    "    text=r.recognize_google(audio_data)\n",
    "    print(text)"
   ]
  },
  {
   "cell_type": "markdown",
   "id": "4912bcf0",
   "metadata": {},
   "source": [
    "we can aslo convert audio files into text by loading into it"
   ]
  },
  {
   "cell_type": "code",
   "execution_count": 6,
   "id": "bb75642e",
   "metadata": {},
   "outputs": [
    {
     "name": "stdout",
     "output_type": "stream",
     "text": [
      "thank you for choosing the Olympus dictation management system the Olympus dictation management system gives you the power to manage your dictations transcriptions and document seamlessly and to improve the productivity of your daily work for example you can automatically sent to the equation files or transcribed document your system to The USA by email if you're using the speech recognition software the speech recognition engine works in the background to support your document creation we help you enjoy the simple flexible reliable and Secure solutions from the lenders\n"
     ]
    }
   ],
   "source": [
    "filename=\"Welcome.wav\"\n",
    "r=sr.Recognizer()\n",
    "with sr.AudioFile(filename) as source:\n",
    "    audio_data=r.record(source)\n",
    "    text=r.recognize_google(audio_data)\n",
    "    print(text)"
   ]
  },
  {
   "cell_type": "markdown",
   "id": "0463896c",
   "metadata": {},
   "source": [
    "we can aslo convert text into speech by using gTTS Library"
   ]
  },
  {
   "cell_type": "code",
   "execution_count": 9,
   "id": "94f8fd04",
   "metadata": {},
   "outputs": [],
   "source": [
    "from gtts import gTTS"
   ]
  },
  {
   "cell_type": "code",
   "execution_count": 10,
   "id": "188d9970",
   "metadata": {},
   "outputs": [],
   "source": [
    "tts = gTTS('text=hey iam prashanth', lang='en')\n",
    "tts.save(\"audio.mp3\")\n",
    "tts.save(\"audio1.wav\")"
   ]
  },
  {
   "cell_type": "code",
   "execution_count": null,
   "id": "0da410e9",
   "metadata": {},
   "outputs": [],
   "source": []
  }
 ],
 "metadata": {
  "kernelspec": {
   "display_name": "Python 3",
   "language": "python",
   "name": "python3"
  },
  "language_info": {
   "codemirror_mode": {
    "name": "ipython",
    "version": 3
   },
   "file_extension": ".py",
   "mimetype": "text/x-python",
   "name": "python",
   "nbconvert_exporter": "python",
   "pygments_lexer": "ipython3",
   "version": "3.8.8"
  }
 },
 "nbformat": 4,
 "nbformat_minor": 5
}
